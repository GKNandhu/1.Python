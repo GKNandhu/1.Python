{
 "cells": [
  {
   "cell_type": "code",
   "execution_count": 1,
   "metadata": {},
   "outputs": [],
   "source": [
    "def subfields():\n",
    "    print(\"Machine Learning\")\n",
    "    print(\"Neural Networks\")\n",
    "    print(\"Vision\")\n",
    "    print(\"Robotics\")\n",
    "    print(\"Speech Processing\")\n",
    "    print(\"Natural Language Processing\")"
   ]
  },
  {
   "cell_type": "code",
   "execution_count": 2,
   "metadata": {},
   "outputs": [
    {
     "name": "stdout",
     "output_type": "stream",
     "text": [
      "Machine Learning\n",
      "Neural Networks\n",
      "Vision\n",
      "Robotics\n",
      "Speech Processing\n",
      "Natural Language Processing\n"
     ]
    }
   ],
   "source": [
    "subfields()"
   ]
  },
  {
   "cell_type": "code",
   "execution_count": 3,
   "metadata": {},
   "outputs": [],
   "source": [
    "def oddeven(num):\n",
    "    if(num%2==1):\n",
    "        print(\"Odd Number\")\n",
    "    else:\n",
    "        print(\"Even Number\")"
   ]
  },
  {
   "cell_type": "code",
   "execution_count": 4,
   "metadata": {},
   "outputs": [
    {
     "name": "stdout",
     "output_type": "stream",
     "text": [
      "Even Number\n"
     ]
    }
   ],
   "source": [
    "oddeven(4)"
   ]
  },
  {
   "cell_type": "code",
   "execution_count": 5,
   "metadata": {},
   "outputs": [],
   "source": [
    "def Eligible():\n",
    "    gender=input(\"Your Gender:\")\n",
    "    age=int(input(\"Your Age:\"))\n",
    "    if(gender=='male'):\n",
    "        if(age<21):\n",
    "            print(\"NOT ELIGIBLE\")\n",
    "        else:\n",
    "            print(\"ELIGIBLE\")\n",
    "    elif(gender=='female'):\n",
    "        if(age<18):\n",
    "            print(\"NOT ELIGIBLE\")\n",
    "        else:\n",
    "            print(\"ELIGIBLE\")"
   ]
  },
  {
   "cell_type": "code",
   "execution_count": 6,
   "metadata": {},
   "outputs": [
    {
     "name": "stdout",
     "output_type": "stream",
     "text": [
      "Your Gender:male\n",
      "Your Age:18\n",
      "NOT ELIGIBLE\n"
     ]
    }
   ],
   "source": [
    "Eligible()"
   ]
  },
  {
   "cell_type": "code",
   "execution_count": 7,
   "metadata": {},
   "outputs": [],
   "source": [
    "def percentage(subject1,subject2,subject3,subject4,subject5,sub_totals):\n",
    "    print(\"subject1=\",subject1)\n",
    "    print(\"subject2=\",subject2)\n",
    "    print(\"subject3=\",subject3)\n",
    "    print(\"subject4=\",subject4)\n",
    "    print(\"subject5=\",subject5)\n",
    "    total=subject1+subject2+subject3+subject4+subject5\n",
    "    print(\"Total:\",total)\n",
    "    percentage=total/sub_totals*100\n",
    "    print(\"percentage:\",percentage)\n",
    "    return percentage "
   ]
  },
  {
   "cell_type": "code",
   "execution_count": 8,
   "metadata": {},
   "outputs": [
    {
     "name": "stdout",
     "output_type": "stream",
     "text": [
      "subject1= 23\n",
      "subject2= 45\n",
      "subject3= 34\n",
      "subject4= 23\n",
      "subject5= 23\n",
      "Total: 148\n",
      "percentage: 29.599999999999998\n"
     ]
    },
    {
     "data": {
      "text/plain": [
       "29.599999999999998"
      ]
     },
     "execution_count": 8,
     "metadata": {},
     "output_type": "execute_result"
    }
   ],
   "source": [
    "percentage(23,45,34,23,23,500)"
   ]
  },
  {
   "cell_type": "code",
   "execution_count": 11,
   "metadata": {},
   "outputs": [],
   "source": [
    "def triangle(Height,Breadth,Height1,Height2,Breadth1):\n",
    "    print(\"Height:\",Height)\n",
    "    print(\"Breadth:\",Breadth)\n",
    "    Area_formula=(Height*Breadth)/2\n",
    "    print(\"Area_formula:(Height*Breadth)/2\")\n",
    "    Area_of_triangle=Area_formula\n",
    "    print(\"Area_of_triangle:\",Area_of_triangle)\n",
    "    \n",
    "    print(\"Height1:\",Height1)\n",
    "    print(\"Height2:\",Height2)\n",
    "    print(\"Breadth1:\",Breadth1)\n",
    "    Perimeter_formula= Height1+Height2+Breadth1\n",
    "    print(\"Perimeter_formula:Height1+Height2+Breadth1\")\n",
    "    Perimeter_of_triangle=Perimeter_formula\n",
    "    print(\"Perimeter_of_triangle:\",Perimeter_formula)"
   ]
  },
  {
   "cell_type": "code",
   "execution_count": 12,
   "metadata": {},
   "outputs": [
    {
     "name": "stdout",
     "output_type": "stream",
     "text": [
      "Height: 3\n",
      "Breadth: 4\n",
      "Area_formula:(Height*Breadth)/2\n",
      "Area_of_triangle: 6.0\n",
      "Height1: 3\n",
      "Height2: 4\n",
      "Breadth1: 45\n",
      "Perimeter_formula:Height1+Height2+Breadth1\n",
      "Perimeter_of_triangle: 52\n"
     ]
    }
   ],
   "source": [
    "triangle(3,4,3,4,45)"
   ]
  },
  {
   "cell_type": "code",
   "execution_count": 13,
   "metadata": {},
   "outputs": [],
   "source": [
    "class subfieldsinAI():\n",
    "    def subfields():\n",
    "        print(\"Machine Learning\")\n",
    "        print(\"Neural Networks\")\n",
    "        print(\"Vision\")\n",
    "        print(\"Robotics\")\n",
    "        print(\"Speech Processing\")\n",
    "        print(\"Natural Language Processing\")"
   ]
  },
  {
   "cell_type": "code",
   "execution_count": 14,
   "metadata": {},
   "outputs": [
    {
     "name": "stdout",
     "output_type": "stream",
     "text": [
      "Machine Learning\n",
      "Neural Networks\n",
      "Vision\n",
      "Robotics\n",
      "Speech Processing\n",
      "Natural Language Processing\n"
     ]
    }
   ],
   "source": [
    "subfieldsinAI.subfields()"
   ]
  },
  {
   "cell_type": "code",
   "execution_count": 15,
   "metadata": {},
   "outputs": [],
   "source": [
    "class oddeven():\n",
    "    def oddeven(num):\n",
    "        if(num%2==1):\n",
    "            print(\"Odd Number\")\n",
    "        else:\n",
    "            print(\"Even Number\")"
   ]
  },
  {
   "cell_type": "code",
   "execution_count": 16,
   "metadata": {},
   "outputs": [
    {
     "name": "stdout",
     "output_type": "stream",
     "text": [
      "Even Number\n"
     ]
    }
   ],
   "source": [
    "oddeven.oddeven(4)"
   ]
  },
  {
   "cell_type": "code",
   "execution_count": 18,
   "metadata": {},
   "outputs": [],
   "source": [
    "class ElegiblityForMarriage():\n",
    "    def Eligible():\n",
    "        gender=input(\"Your Gender:\")\n",
    "        age=int(input(\"Your Age:\"))\n",
    "        if(gender=='male'):\n",
    "            if(age<21):\n",
    "                print(\"NOT ELIGIBLE\")\n",
    "            else:\n",
    "                print(\"ELIGIBLE\")\n",
    "        elif(gender=='female'):\n",
    "            if(age<18):\n",
    "                print(\"NOT ELIGIBLE\")\n",
    "            else:\n",
    "                print(\"ELIGIBLE\")"
   ]
  },
  {
   "cell_type": "code",
   "execution_count": 21,
   "metadata": {},
   "outputs": [
    {
     "name": "stdout",
     "output_type": "stream",
     "text": [
      "Your Gender:male\n",
      "Your Age:18\n",
      "NOT ELIGIBLE\n"
     ]
    }
   ],
   "source": [
    "ElegiblityForMarriage.Eligible()"
   ]
  },
  {
   "cell_type": "code",
   "execution_count": 22,
   "metadata": {},
   "outputs": [],
   "source": [
    "class FindPercent():\n",
    "    def percentage(subject1,subject2,subject3,subject4,subject5,sub_totals):\n",
    "        print(\"subject1=\",subject1)\n",
    "        print(\"subject2=\",subject2)\n",
    "        print(\"subject3=\",subject3)\n",
    "        print(\"subject4=\",subject4)\n",
    "        print(\"subject5=\",subject5)\n",
    "        total=subject1+subject2+subject3+subject4+subject5\n",
    "        print(\"Total:\",total)\n",
    "        percentage=total/sub_totals*100\n",
    "        print(\"percentage:\",percentage)\n",
    "        return percentage "
   ]
  },
  {
   "cell_type": "code",
   "execution_count": 23,
   "metadata": {},
   "outputs": [
    {
     "name": "stdout",
     "output_type": "stream",
     "text": [
      "subject1= 23\n",
      "subject2= 45\n",
      "subject3= 34\n",
      "subject4= 23\n",
      "subject5= 23\n",
      "Total: 148\n",
      "percentage: 29.599999999999998\n"
     ]
    },
    {
     "data": {
      "text/plain": [
       "29.599999999999998"
      ]
     },
     "execution_count": 23,
     "metadata": {},
     "output_type": "execute_result"
    }
   ],
   "source": [
    "FindPercent.percentage(23,45,34,23,23,500)"
   ]
  },
  {
   "cell_type": "code",
   "execution_count": 24,
   "metadata": {},
   "outputs": [],
   "source": [
    "class triangle():\n",
    "    def triangle(Height,Breadth,Height1,Height2,Breadth1):\n",
    "        print(\"Height:\",Height)\n",
    "        print(\"Breadth:\",Breadth)\n",
    "        Area_formula=(Height*Breadth)/2\n",
    "        print(\"Area_formula:(Height*Breadth)/2\")\n",
    "        Area_of_triangle=Area_formula\n",
    "        print(\"Area_of_triangle:\",Area_of_triangle)\n",
    "\n",
    "        print(\"Height1:\",Height1)\n",
    "        print(\"Height2:\",Height2)\n",
    "        print(\"Breadth1:\",Breadth1)\n",
    "        Perimeter_formula= Height1+Height2+Breadth1\n",
    "        print(\"Perimeter_formula:Height1+Height2+Breadth1\")\n",
    "        Perimeter_of_triangle=Perimeter_formula\n",
    "        print(\"Perimeter_of_triangle:\",Perimeter_formula)"
   ]
  },
  {
   "cell_type": "code",
   "execution_count": 25,
   "metadata": {},
   "outputs": [
    {
     "name": "stdout",
     "output_type": "stream",
     "text": [
      "Height: 3\n",
      "Breadth: 4\n",
      "Area_formula:(Height*Breadth)/2\n",
      "Area_of_triangle: 6.0\n",
      "Height1: 3\n",
      "Height2: 4\n",
      "Breadth1: 45\n",
      "Perimeter_formula:Height1+Height2+Breadth1\n",
      "Perimeter_of_triangle: 52\n"
     ]
    }
   ],
   "source": [
    "triangle.triangle(3,4,3,4,45)"
   ]
  },
  {
   "cell_type": "code",
   "execution_count": null,
   "metadata": {},
   "outputs": [],
   "source": []
  }
 ],
 "metadata": {
  "kernelspec": {
   "display_name": "Python 3",
   "language": "python",
   "name": "python3"
  },
  "language_info": {
   "codemirror_mode": {
    "name": "ipython",
    "version": 3
   },
   "file_extension": ".py",
   "mimetype": "text/x-python",
   "name": "python",
   "nbconvert_exporter": "python",
   "pygments_lexer": "ipython3",
   "version": "3.7.4"
  }
 },
 "nbformat": 4,
 "nbformat_minor": 2
}
