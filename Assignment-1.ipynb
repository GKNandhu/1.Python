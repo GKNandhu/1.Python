{
 "cells": [
  {
   "cell_type": "code",
   "execution_count": 1,
   "metadata": {},
   "outputs": [
    {
     "name": "stdout",
     "output_type": "stream",
     "text": [
      "welcome to Assignment-1\n"
     ]
    }
   ],
   "source": [
    "print(\"welcome to Assignment-1\")"
   ]
  },
  {
   "cell_type": "code",
   "execution_count": 17,
   "metadata": {},
   "outputs": [
    {
     "name": "stdout",
     "output_type": "stream",
     "text": [
      "Num1=10\n",
      "Num2=30\n",
      "Add= 40\n"
     ]
    }
   ],
   "source": [
    "num1=10\n",
    "num2=30\n",
    "add=num1+num2\n",
    "print(\"Num1=10\")\n",
    "print(\"Num2=30\")\n",
    "print(\"Add=\",add)"
   ]
  },
  {
   "cell_type": "code",
   "execution_count": 21,
   "metadata": {},
   "outputs": [
    {
     "name": "stdout",
     "output_type": "stream",
     "text": [
      "enter the weight:34\n"
     ]
    }
   ],
   "source": [
    "weight=int(input(\"enter the weight:\"))\n"
   ]
  },
  {
   "cell_type": "code",
   "execution_count": 23,
   "metadata": {},
   "outputs": [
    {
     "name": "stdout",
     "output_type": "stream",
     "text": [
      "very overweight\n"
     ]
    }
   ],
   "source": [
    "if(weight<18):\n",
    "    print(\"under weight\")\n",
    "elif(weight<24):\n",
    "    print(\"normal weight\")\n",
    "elif(weight<30):\n",
    "    print(\"over weight\")\n",
    "elif(weight<38):\n",
    "    print(\"very overweight\")\n",
    "else:\n",
    "    print(\"extremely obese\")"
   ]
  },
  {
   "cell_type": "code",
   "execution_count": null,
   "metadata": {},
   "outputs": [],
   "source": []
  },
  {
   "cell_type": "code",
   "execution_count": null,
   "metadata": {},
   "outputs": [],
   "source": []
  }
 ],
 "metadata": {
  "kernelspec": {
   "display_name": "Python 3",
   "language": "python",
   "name": "python3"
  },
  "language_info": {
   "codemirror_mode": {
    "name": "ipython",
    "version": 3
   },
   "file_extension": ".py",
   "mimetype": "text/x-python",
   "name": "python",
   "nbconvert_exporter": "python",
   "pygments_lexer": "ipython3",
   "version": "3.7.4"
  }
 },
 "nbformat": 4,
 "nbformat_minor": 2
}
